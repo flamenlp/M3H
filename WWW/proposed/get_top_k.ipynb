{
 "cells": [
  {
   "cell_type": "code",
   "execution_count": null,
   "metadata": {},
   "outputs": [],
   "source": [
    "import matplotlib.pyplot as plt\n",
    "import seaborn as sns\n",
    "import torch\n",
    "from PIL import Image\n",
    "import pandas as pd\n",
    "\n"
   ]
  },
  {
   "cell_type": "code",
   "execution_count": null,
   "metadata": {},
   "outputs": [],
   "source": [
    "def show_stats(df_):\n",
    "    df = df_.copy()\n",
    "    \n",
    "    # Plotting the frequency of categories\n",
    "    plt.figure(figsize=(10, 6))\n",
    "    sns.countplot(y=df['meme_anxiety_categories'], order=df['meme_anxiety_categories'].value_counts().index)\n",
    "    \n",
    "    plt.title('Frequency of Meme Anxiety Categories')\n",
    "    plt.xlabel('Count')\n",
    "    plt.ylabel('Categories')\n",
    "    plt.show()"
   ]
  },
  {
   "cell_type": "code",
   "execution_count": null,
   "metadata": {},
   "outputs": [],
   "source": [
    "test_df = pd.read_csv('directory/test.csv')\n",
    "train_df = pd.read_csv('directory/train.csv')\n",
    "\n"
   ]
  },
  {
   "cell_type": "code",
   "execution_count": 5,
   "metadata": {},
   "outputs": [],
   "source": [
    "train_df.dropna(inplace = True)\n",
    "test_df.dropna(inplace = True)"
   ]
  },
  {
   "cell_type": "code",
   "execution_count": 6,
   "metadata": {},
   "outputs": [],
   "source": [
    "train_df.drop(columns='Unnamed: 0',inplace = True)\n",
    "test_df.drop(columns='Unnamed: 0',inplace = True)"
   ]
  },
  {
   "cell_type": "code",
   "execution_count": 7,
   "metadata": {},
   "outputs": [],
   "source": [
    "\n",
    "train_df = train_df[train_df['meme_anxiety_categories'] != 'Irritatbily']\n"
   ]
  },
  {
   "cell_type": "code",
   "execution_count": 8,
   "metadata": {},
   "outputs": [],
   "source": [
    "\n",
    "test_df = test_df[test_df['meme_anxiety_categories'] != 'Irritatbily']\n"
   ]
  },
  {
   "cell_type": "code",
   "execution_count": 9,
   "metadata": {},
   "outputs": [],
   "source": [
    "train_df.reset_index(drop=True, inplace=True)\n",
    "test_df.reset_index(drop=True, inplace=True)"
   ]
  },
  {
   "cell_type": "code",
   "execution_count": null,
   "metadata": {},
   "outputs": [],
   "source": [
    "print(train_df.info())\n",
    "print(test_df.info())\n",
    "\n",
    "show_stats(train_df)\n",
    "show_stats(test_df)"
   ]
  },
  {
   "cell_type": "code",
   "execution_count": null,
   "metadata": {},
   "outputs": [],
   "source": [
    "test_ocr_array = torch.load('path to test ocr embeddings')\n",
    "train_ocr_array = torch.load('path to train ocr embeddings')\n",
    "\n",
    "test_gpt_array = torch.load('path to test gpt embeddings')\n",
    "train_gpt_array = torch.load('path to train gpt embeddings')\n",
    "\n",
    "\n",
    "print(train_gpt_array.shape)\n",
    "print(train_ocr_array.shape) \n",
    "print(test_gpt_array.shape)\n",
    "print(test_ocr_array.shape) "
   ]
  },
  {
   "cell_type": "code",
   "execution_count": 12,
   "metadata": {},
   "outputs": [],
   "source": [
    "test = torch.cat([test_ocr_array, test_gpt_array], dim=1)\n",
    "test.shape\n",
    "\n",
    "train = torch.cat([train_ocr_array, train_gpt_array], dim=1)\n",
    "train.shape\n",
    "\n",
    "torch.save(train, 'train_temp.pt')\n",
    "torch.save(test, 'test_temp.pt')"
   ]
  },
  {
   "cell_type": "code",
   "execution_count": null,
   "metadata": {},
   "outputs": [],
   "source": [
    "def get_image(test=None, train=None, index_=10):\n",
    "    if test:\n",
    "        image = f'path to anxiety test image/TE-{index_+1}.jpg'\n",
    "    if train:\n",
    "        image = f'path to anxiety train image/TR-{index_+1}.jpg'\n",
    "    image = Image.open(image)\n",
    "    image_resized = image.resize((350, 350))\n",
    "    return image_resized"
   ]
  },
  {
   "cell_type": "code",
   "execution_count": null,
   "metadata": {},
   "outputs": [],
   "source": [
    "test_n = 233\n",
    "test_tensor = test[test_n]\n",
    "print(test_df['triples'][test_n])\n",
    "print(test_df['meme_anxiety_categories'][test_n])\n",
    "\n",
    "get_image(test=True, index_ = test_n)"
   ]
  },
  {
   "cell_type": "code",
   "execution_count": 15,
   "metadata": {},
   "outputs": [],
   "source": [
    "from filter import get_filtered\n",
    "\n",
    "similarity = get_filtered(variable = train)"
   ]
  },
  {
   "cell_type": "code",
   "execution_count": 16,
   "metadata": {},
   "outputs": [
    {
     "name": "stdout",
     "output_type": "stream",
     "text": [
      "[772]\n"
     ]
    }
   ],
   "source": [
    "indices = similarity.get_filter_variable(test_tensor,\n",
    "                              top_k = 1,\n",
    "                              return_text=False)\n",
    "print(indices)"
   ]
  },
  {
   "cell_type": "code",
   "execution_count": null,
   "metadata": {},
   "outputs": [],
   "source": [
    "print(train_df['triples'][309])\n",
    "print(train_df['meme_anxiety_categories'][309])\n",
    "\n",
    "get_image(train = True, index_ = 309)"
   ]
  },
  {
   "cell_type": "code",
   "execution_count": null,
   "metadata": {},
   "outputs": [],
   "source": [
    "from tqdm import tqdm\n",
    "retrived_descs = []\n",
    "retrived_labels = []\n",
    "retrived_ocrs = []\n",
    "indices_ = []\n",
    "for n, desc in enumerate(tqdm(train_df['ocr_text'])):\n",
    "    input_tensor = train[n]\n",
    "    indices = similarity.get_filter_variable(input_tensor,\n",
    "                              top_k = 4,\n",
    "                              return_text=False)\n",
    "    first_one = indices.pop(0)\n",
    "    indices_.append(indices)"
   ]
  },
  {
   "cell_type": "code",
   "execution_count": null,
   "metadata": {},
   "outputs": [],
   "source": [
    "train_df['indices'] = None\n",
    "train_df['indices'] = indices_\n",
    "\n",
    "train_df.to_csv('path to final dataframe for train.csv')"
   ]
  },
  {
   "cell_type": "code",
   "execution_count": null,
   "metadata": {},
   "outputs": [],
   "source": [
    "from tqdm import tqdm\n",
    "retrived_descs = []\n",
    "retrived_labels = []\n",
    "retrived_ocrs = []\n",
    "indices_ = []\n",
    "for n, desc in enumerate(tqdm(test_df['ocr_text'])):\n",
    "    input_tensor = test[n]\n",
    "    indices = similarity.get_filter_variable(input_tensor,\n",
    "                              top_k = 3,\n",
    "                              return_text=False)\n",
    "    indices_.append(indices)"
   ]
  },
  {
   "cell_type": "code",
   "execution_count": null,
   "metadata": {},
   "outputs": [],
   "source": [
    "test_df['indices'] = None\n",
    "test_df['indices'] = indices_\n",
    "\n",
    "test_df.to_csv('path to final dataframe for test.csv')"
   ]
  },
  {
   "cell_type": "code",
   "execution_count": null,
   "metadata": {},
   "outputs": [],
   "source": []
  }
 ],
 "metadata": {
  "kernelspec": {
   "display_name": "base",
   "language": "python",
   "name": "python3"
  },
  "language_info": {
   "codemirror_mode": {
    "name": "ipython",
    "version": 3
   },
   "file_extension": ".py",
   "mimetype": "text/x-python",
   "name": "python",
   "nbconvert_exporter": "python",
   "pygments_lexer": "ipython3",
   "version": "3.9.7"
  }
 },
 "nbformat": 4,
 "nbformat_minor": 2
}
