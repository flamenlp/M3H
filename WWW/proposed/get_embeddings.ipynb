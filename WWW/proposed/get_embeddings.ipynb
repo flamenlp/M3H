{
 "cells": [
  {
   "cell_type": "code",
   "execution_count": null,
   "metadata": {},
   "outputs": [],
   "source": [
    "import matplotlib.pyplot as plt\n",
    "import ast\n",
    "import pandas as pd\n",
    "import seaborn as sns\n",
    "import tqdm\n",
    "import torch\n",
    "\n",
    "def show_stats(df_):\n",
    "    df = df_.copy()\n",
    "    \n",
    "    # Plotting the frequency of categories\n",
    "    plt.figure(figsize=(10, 6))\n",
    "    sns.countplot(y=df['meme_anxiety_categories'], order=df['meme_anxiety_categories'].value_counts().index)\n",
    "    \n",
    "    plt.title('Frequency of Meme Anxiety Categories')\n",
    "    plt.xlabel('Count')\n",
    "    plt.ylabel('Categories')\n",
    "    plt.show()"
   ]
  },
  {
   "cell_type": "code",
   "execution_count": null,
   "metadata": {},
   "outputs": [],
   "source": [
    "import torch\n",
    "from PIL import Image\n",
    "import pandas as pd\n",
    "\n",
    "test_df = pd.read_csv('/home/aseems/AAAI/anxiety/anxiety_data/gpt/anxiety_test_gpt_new.csv')\n",
    "train_df = pd.read_csv('/home/aseems/AAAI/anxiety/anxiety_data/gpt/anxiety_train_gpt_new.csv')\n",
    "\n",
    "test_df.head(10)"
   ]
  },
  {
   "cell_type": "code",
   "execution_count": null,
   "metadata": {},
   "outputs": [],
   "source": [
    "train_df.dropna(inplace = True)\n",
    "test_df.dropna(inplace = True)"
   ]
  },
  {
   "cell_type": "code",
   "execution_count": null,
   "metadata": {},
   "outputs": [],
   "source": [
    "train_df.drop(columns='Unnamed: 0',inplace = True)\n",
    "test_df.drop(columns='Unnamed: 0',inplace = True)"
   ]
  },
  {
   "cell_type": "code",
   "execution_count": null,
   "metadata": {},
   "outputs": [],
   "source": [
    "\n",
    "train_df = train_df[train_df['meme_anxiety_categories'] != 'Irritatbily']\n"
   ]
  },
  {
   "cell_type": "code",
   "execution_count": null,
   "metadata": {},
   "outputs": [],
   "source": [
    "\n",
    "test_df = test_df[test_df['meme_anxiety_categories'] != 'Irritatbily']\n"
   ]
  },
  {
   "cell_type": "code",
   "execution_count": null,
   "metadata": {},
   "outputs": [],
   "source": [
    "train_df.reset_index(drop=True, inplace=True)\n",
    "test_df.reset_index(drop=True, inplace=True)"
   ]
  },
  {
   "cell_type": "code",
   "execution_count": null,
   "metadata": {},
   "outputs": [],
   "source": [
    "print(train_df.info())\n",
    "print(test_df.info())\n",
    "\n",
    "show_stats(train_df)\n",
    "show_stats(test_df)"
   ]
  },
  {
   "cell_type": "code",
   "execution_count": null,
   "metadata": {},
   "outputs": [],
   "source": [
    "from sentence_transformers import SentenceTransformer\n",
    "\n",
    "model_name = 'sentence-transformers/all-mpnet-base-v2'\n",
    "model_name = 'BAAI/bge-m3'\n",
    "model = SentenceTransformer(model_name)\n",
    "embeddings = model.encode(train_df['ocr_text'][0:2])\n",
    "print(embeddings.shape)"
   ]
  },
  {
   "cell_type": "code",
   "execution_count": null,
   "metadata": {},
   "outputs": [],
   "source": [
    "# Initialize a list to store embeddings\n",
    "embeddings = []\n",
    "\n",
    "# Encode the OCR texts and store the embeddings\n",
    "for ocr in tqdm.tqdm(train_df['ocr_text']):\n",
    "    ocr_embedding = torch.tensor(model.encode(ocr))\n",
    "    embeddings.append(ocr_embedding)\n",
    "\n",
    "# Stack the embeddings into a single tensor\n",
    "embeddings_tensor = torch.stack(embeddings)\n",
    "\n",
    "# Save the tensor to a file\n",
    "torch.save(embeddings_tensor, 'current directory/ocr_embeddings.pt')\n"
   ]
  },
  {
   "cell_type": "code",
   "execution_count": null,
   "metadata": {},
   "outputs": [],
   "source": [
    "# Initialize a list to store embeddings\n",
    "embeddings = []\n",
    "\n",
    "# Encode the OCR texts and store the embeddings\n",
    "for ocr in tqdm.tqdm(train_df['triples']):\n",
    "    ocr_embedding = torch.tensor(model.encode(ocr))\n",
    "    embeddings.append(ocr_embedding)\n",
    "\n",
    "# Stack the embeddings into a single tensor\n",
    "embeddings_tensor = torch.stack(embeddings)\n",
    "\n",
    "# Save the tensor to a file\n",
    "torch.save(embeddings_tensor, 'current directory/triples_embeddings.pt')"
   ]
  },
  {
   "cell_type": "code",
   "execution_count": null,
   "metadata": {},
   "outputs": [],
   "source": [
    "# Initialize a list to store embeddings\n",
    "embeddings = []\n",
    "\n",
    "# Encode the OCR texts and store the embeddings\n",
    "for ocr in tqdm.tqdm(test_df['triples']):\n",
    "    ocr_embedding = torch.tensor(model.encode(ocr))\n",
    "    embeddings.append(ocr_embedding)\n",
    "\n",
    "# Stack the embeddings into a single tensor\n",
    "embeddings_tensor = torch.stack(embeddings)\n",
    "\n",
    "# Save the tensor to a file\n",
    "torch.save(embeddings_tensor, 'current directory/test_triples_embeddings.pt')"
   ]
  },
  {
   "cell_type": "code",
   "execution_count": null,
   "metadata": {},
   "outputs": [],
   "source": [
    "# Initialize a list to store embeddings\n",
    "embeddings = []\n",
    "\n",
    "# Encode the OCR texts and store the embeddings\n",
    "for ocr in tqdm.tqdm(test_df['ocr_text']):\n",
    "    ocr_embedding = torch.tensor(model.encode(ocr))\n",
    "    embeddings.append(ocr_embedding)\n",
    "\n",
    "# Stack the embeddings into a single tensor\n",
    "embeddings_tensor = torch.stack(embeddings)\n",
    "\n",
    "# Save the tensor to a file\n",
    "torch.save(embeddings_tensor, 'current directory/test_ocr_embeddings.pt')   "
   ]
  }
 ],
 "metadata": {
  "kernelspec": {
   "display_name": "base",
   "language": "python",
   "name": "python3"
  },
  "language_info": {
   "codemirror_mode": {
    "name": "ipython",
    "version": 3
   },
   "file_extension": ".py",
   "mimetype": "text/x-python",
   "name": "python",
   "nbconvert_exporter": "python",
   "pygments_lexer": "ipython3",
   "version": "3.9.7"
  }
 },
 "nbformat": 4,
 "nbformat_minor": 2
}
